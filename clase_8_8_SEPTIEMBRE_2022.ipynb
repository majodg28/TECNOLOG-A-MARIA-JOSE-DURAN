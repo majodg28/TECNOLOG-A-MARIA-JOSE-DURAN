{
  "nbformat": 4,
  "nbformat_minor": 0,
  "metadata": {
    "colab": {
      "provenance": [],
      "collapsed_sections": []
    },
    "kernelspec": {
      "name": "python3",
      "display_name": "Python 3"
    },
    "language_info": {
      "name": "python"
    }
  },
  "cells": [
    {
      "cell_type": "code",
      "execution_count": null,
      "metadata": {
        "id": "grUkoxgJqUKq"
      },
      "outputs": [],
      "source": []
    },
    {
      "cell_type": "markdown",
      "source": [
        "<center>\n",
        "\n",
        "#**COLEGIO SIGLO XXI - EL SOCORRO**\n",
        "#**PRESENTADO A: ING PAOLA ANDREA QUINTERO**\n",
        "#**PRESENTADO POR: MARÍA JOSE DURAN GÓMEZ**\n",
        "#**GRADO DÉCIMO**\n",
        "#**8 SEPTIEMBRE 2022**"
      ],
      "metadata": {
        "id": "aMYcddaVr2j7"
      }
    },
    {
      "cell_type": "markdown",
      "source": [
        "#**¿Qué es Python?**\n",
        "# Es un lenguaje de programación de alto nivel que se utiliza para desarrollar aplicaciones de todo tipo. A diferencia de otros lenguajes como Java o .NET, se trata de un lenguaje interpretado, es decir, que no es necesario compilarlo para ejecutar las aplicaciones escritas en Python, sino que se ejecutan directamente por el ordenador utilizando un programa denominado interpretador, por lo que no es necesario “traducirlo” a lenguaje máquina. \n",
        "#Fecha de lanzamiento: Python remonta su origen a principios de los años 90.\n",
        "#Creadores: Guido Van Rossum, un trabajador del Centrum Wiskunde & Informatica (CWI)\n",
        "\n",
        "#Recuperado de: https://www.becas-santander.com/es/blog/python-que-es.html"
      ],
      "metadata": {
        "id": "Y-aODvos0puD"
      }
    },
    {
      "cell_type": "code",
      "source": [
        "print(\"Esto es una suma\")\n",
        "numero_uno = 5\n",
        "numero_dos = 22\n",
        "resultado = numero_uno + numero_dos\n",
        "print(resultado)"
      ],
      "metadata": {
        "colab": {
          "base_uri": "https://localhost:8080/"
        },
        "id": "6bPkCShe3f14",
        "outputId": "03f2f77e-644b-4b05-afa5-76c15afa1130"
      },
      "execution_count": null,
      "outputs": [
        {
          "output_type": "stream",
          "name": "stdout",
          "text": [
            "Esto es una suma\n",
            "27\n"
          ]
        }
      ]
    },
    {
      "cell_type": "code",
      "source": [
        "print(\"Esto es una resta\")\n",
        "numero_uno = 35\n",
        "numero_dos = 56\n",
        "resultado = numero_uno - numero_dos\n",
        "print(resultado)"
      ],
      "metadata": {
        "colab": {
          "base_uri": "https://localhost:8080/"
        },
        "id": "WEkWLc6q4ALC",
        "outputId": "3a0a3d4a-2a35-4cee-fbc4-85d8a01c72a4"
      },
      "execution_count": null,
      "outputs": [
        {
          "output_type": "stream",
          "name": "stdout",
          "text": [
            "Esto es una resta\n",
            "-21\n"
          ]
        }
      ]
    },
    {
      "cell_type": "code",
      "source": [
        "print(\"Esto es una multiplicacion\")\n",
        "numero_uno = 5\n",
        "numero_dos = 7\n",
        "resultado = numero_uno * numero_dos\n",
        "print(resultado)"
      ],
      "metadata": {
        "colab": {
          "base_uri": "https://localhost:8080/"
        },
        "id": "iYrRBUYW4Hva",
        "outputId": "814e9684-ba0c-476d-b9d7-9864d6964a46"
      },
      "execution_count": null,
      "outputs": [
        {
          "output_type": "stream",
          "name": "stdout",
          "text": [
            "Esto es una multiplicacion\n",
            "35\n"
          ]
        }
      ]
    },
    {
      "cell_type": "code",
      "source": [
        "print(\"Esto es una division\")\n",
        "numero_uno = 2\n",
        "numero_dos = 56\n",
        "resultado = numero_uno / numero_dos\n",
        "print(resultado)"
      ],
      "metadata": {
        "colab": {
          "base_uri": "https://localhost:8080/"
        },
        "id": "y_vOw1dk40ta",
        "outputId": "dbd8efc8-7501-45aa-d77b-ef5e4ecab228"
      },
      "execution_count": null,
      "outputs": [
        {
          "output_type": "stream",
          "name": "stdout",
          "text": [
            "Esto es una division\n",
            "0.03571428571428571\n"
          ]
        }
      ]
    },
    {
      "cell_type": "markdown",
      "source": [
        "#Ejercicios de Tipos de Datos Simples"
      ],
      "metadata": {
        "id": "40DkHKju5N3S"
      }
    },
    {
      "cell_type": "markdown",
      "source": [
        "## Ejercicio 1\n",
        "Escribir un programa que pregunte el nombre de el usuario en la consola y un número entero e imprima por pantalla una líneas distintas el nombre de el usuario tantas veces como el número introducido."
      ],
      "metadata": {
        "id": "grc4K-D-wNNm"
      }
    },
    {
      "cell_type": "code",
      "source": [
        "peso = input(\"¿Cuál es tu peso en kg?\")\n",
        "estatura = input(\"¿Cuál es tu estatura en metros?\")\n",
        "imc = round(float(peso)/float(estatura)**2,2)\n",
        "print(\"Tu índice de masa corporal es \" + str(imc))"
      ],
      "metadata": {
        "colab": {
          "base_uri": "https://localhost:8080/"
        },
        "id": "hKJJCxGx5_Wy",
        "outputId": "34c7e1bf-b1b6-41a2-bad0-b1cbb74702d0"
      },
      "execution_count": null,
      "outputs": [
        {
          "output_type": "stream",
          "name": "stdout",
          "text": [
            "¿Cuál es tu peso en kg?60\n",
            "¿Cuál es tu estatura en metros?1.55\n",
            "Tu índice de masa corporal es 24.97\n"
          ]
        }
      ]
    },
    {
      "cell_type": "code",
      "source": [
        "nombre = input(\"¿Cómo te llamas? \")\n",
        "n = input(\"Introduce tu número entero: \")\n",
        "print((nombre + \"\\n\") * int(n))"
      ],
      "metadata": {
        "colab": {
          "base_uri": "https://localhost:8080/"
        },
        "id": "4QswSxDWxc7H",
        "outputId": "f7962454-26d3-4f4d-e259-4cea9fa694b2"
      },
      "execution_count": null,
      "outputs": [
        {
          "output_type": "stream",
          "name": "stdout",
          "text": [
            "¿Cómo te llamas? Sara\n",
            "Introduce tu número entero: 4\n",
            "Sara\n",
            "Sara\n",
            "Sara\n",
            "Sara\n",
            "\n"
          ]
        }
      ]
    },
    {
      "cell_type": "markdown",
      "source": [
        "## Ejercicio 2\n",
        "Escribir un programa que pida al usuario su peso (en kg) y estatura (en metros), calcule el índice de masa corporal y lo almacene en una variable e imprima por pantalla la frase 'Tu índice de masa corporal es' <imc> donde <imc> es el índice de masa corporal calculando redondeando con dos decimales"
      ],
      "metadata": {
        "id": "1sy-Ijak0G8k"
      }
    },
    {
      "cell_type": "code",
      "source": [
        "peso = input(\"¿Cuál es tu peso en kg?\")\n",
        "estatura = input(\"¿Cuál es tu estatura en metros?\")\n",
        "imc = round(float(peso)/float(estatura)**2,2)\n",
        "print(\"Tu índice de masa corporal es \" + str(imc))"
      ],
      "metadata": {
        "colab": {
          "base_uri": "https://localhost:8080/"
        },
        "outputId": "34c7e1bf-b1b6-41a2-bad0-b1cbb74702d0",
        "id": "DX12ki-_0kv4"
      },
      "execution_count": null,
      "outputs": [
        {
          "output_type": "stream",
          "name": "stdout",
          "text": [
            "¿Cuál es tu peso en kg?60\n",
            "¿Cuál es tu estatura en metros?1.55\n",
            "Tu índice de masa corporal es 24.97\n"
          ]
        }
      ]
    },
    {
      "cell_type": "markdown",
      "source": [
        "##**LIBRERÍAS EN PYTHON**\n"
      ],
      "metadata": {
        "id": "Cc-ciH2b2sc1"
      }
    },
    {
      "cell_type": "markdown",
      "source": [
        "**¿Qué es?**\n",
        "  \n",
        "  .0"
      ],
      "metadata": {
        "id": "4E5k5WuQ3SQs"
      }
    }
  ]
}